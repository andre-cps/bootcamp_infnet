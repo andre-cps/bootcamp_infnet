{
 "cells": [
  {
   "cell_type": "code",
   "execution_count": null,
   "metadata": {},
   "outputs": [],
   "source": [
    "import random"
   ]
  },
  {
   "cell_type": "code",
   "execution_count": null,
   "metadata": {},
   "outputs": [],
   "source": [
    "dict_ = {\n",
    "    1: 100, \n",
    "    2: 80, \n",
    "    3 : 60,\n",
    "    4 : 40,\n",
    "    5 : 20}"
   ]
  },
  {
   "cell_type": "code",
   "execution_count": null,
   "metadata": {},
   "outputs": [],
   "source": [
    "def jogo_adivinha():\n",
    "    while True:\n",
    "        aleatorio = random.randint(0, 10)\n",
    "        pontuacao = 0\n",
    "        print(aleatorio)\n",
    "        \n",
    "        for tent_cont in range(1, 6):\n",
    "            while True:\n",
    "                try:\n",
    "                    tentativa = int(input(f\"Digite sua {tent_cont}ª tentativa: \"))\n",
    "                    if tentativa not in range(0, 11):\n",
    "                        print(\"Valor inválido! Digite novamente.\")\n",
    "                    else:\n",
    "                        break\n",
    "                except:\n",
    "                    print(\"Valor inválido! Digite novamente.\")\n",
    "\n",
    "            if str(tentativa) == str(aleatorio):\n",
    "                pontuacao = dict_.get(tent_cont)\n",
    "                break\n",
    "\n",
    "        print(f\"Sua pontuação foi {pontuacao}\")\n",
    "        \n",
    "        while True:\n",
    "            option = input(\"Deseja continuar? 1 - Sim | 2 - Não\")\n",
    "            if option in [\"1\", \"2\"]:\n",
    "                break\n",
    "            else:\n",
    "                print(\"Valor inválido!\")\n",
    "                continue\n",
    "\n",
    "        if option == \"1\":\n",
    "            continue\n",
    "        else:\n",
    "            break"
   ]
  },
  {
   "cell_type": "code",
   "execution_count": null,
   "metadata": {},
   "outputs": [],
   "source": [
    "jogo_adivinha()"
   ]
  }
 ],
 "metadata": {
  "kernelspec": {
   "display_name": "Python 3",
   "language": "python",
   "name": "python3"
  },
  "language_info": {
   "codemirror_mode": {
    "name": "ipython",
    "version": 3
   },
   "file_extension": ".py",
   "mimetype": "text/x-python",
   "name": "python",
   "nbconvert_exporter": "python",
   "pygments_lexer": "ipython3",
   "version": "3.10.11"
  },
  "orig_nbformat": 4
 },
 "nbformat": 4,
 "nbformat_minor": 2
}
