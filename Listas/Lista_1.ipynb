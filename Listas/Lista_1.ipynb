{
  "cells": [
    {
      "cell_type": "markdown",
      "metadata": {
        "colab_type": "text",
        "id": "view-in-github"
      },
      "source": [
        "<a href=\"https://colab.research.google.com/github/CharlesPrado23/Bootcamp_TurmaNoite/blob/main/Conteudo_01/Exerc%C3%ADcios(for%2Cif%2Cwhile%2Cdict).ipynb\" target=\"_parent\"><img src=\"https://colab.research.google.com/assets/colab-badge.svg\" alt=\"Open In Colab\"/></a>"
      ]
    },
    {
      "cell_type": "markdown",
      "metadata": {
        "id": "VASoC4nNmAI9"
      },
      "source": [
        "\n",
        "## Exercícios (FOR, IF, WHILE,DICTIONARY) "
      ]
    },
    {
      "attachments": {},
      "cell_type": "markdown",
      "metadata": {
        "id": "ClQPuqarsW9_"
      },
      "source": [
        "1)Passe por todos os números até 99 (começando em 1). Imprima 'fizz' para cada número que é divisível por 7, imprima 'buzz' para cada número divisível por 5 e imprima 'fizzbuzz' para cada número divisível por 7 e 5! Se o número não for divisível por 7 ou 5, imprima um travessão (‘-‘)! \n",
        "\n",
        " Para descubrir se um número x é divisível por y use operador (%): \n",
        "\n",
        "    (x % y) == 0  retorna True se x é divísel por y, False se não for. \n",
        "\n",
        "Dica : use  FOR , IF, ELIF, ELSE "
      ]
    },
    {
      "cell_type": "code",
      "execution_count": 1,
      "metadata": {},
      "outputs": [
        {
          "name": "stdout",
          "output_type": "stream",
          "text": [
            "1 -\n",
            "2 -\n",
            "3 -\n",
            "4 -\n",
            "5 - buzz\n",
            "6 -\n",
            "7 - fizz\n",
            "8 -\n",
            "9 -\n",
            "10 - buzz\n",
            "11 -\n",
            "12 -\n",
            "13 -\n",
            "14 - fizz\n",
            "15 - buzz\n",
            "16 -\n",
            "17 -\n",
            "18 -\n",
            "19 -\n",
            "20 - buzz\n",
            "21 - fizz\n",
            "22 -\n",
            "23 -\n",
            "24 -\n",
            "25 - buzz\n",
            "26 -\n",
            "27 -\n",
            "28 - fizz\n",
            "29 -\n",
            "30 - buzz\n",
            "31 -\n",
            "32 -\n",
            "33 -\n",
            "34 -\n",
            "35 - fizzbuzz\n",
            "36 -\n",
            "37 -\n",
            "38 -\n",
            "39 -\n",
            "40 - buzz\n",
            "41 -\n",
            "42 - fizz\n",
            "43 -\n",
            "44 -\n",
            "45 - buzz\n",
            "46 -\n",
            "47 -\n",
            "48 -\n",
            "49 - fizz\n",
            "50 - buzz\n",
            "51 -\n",
            "52 -\n",
            "53 -\n",
            "54 -\n",
            "55 - buzz\n",
            "56 - fizz\n",
            "57 -\n",
            "58 -\n",
            "59 -\n",
            "60 - buzz\n",
            "61 -\n",
            "62 -\n",
            "63 - fizz\n",
            "64 -\n",
            "65 - buzz\n",
            "66 -\n",
            "67 -\n",
            "68 -\n",
            "69 -\n",
            "70 - fizzbuzz\n",
            "71 -\n",
            "72 -\n",
            "73 -\n",
            "74 -\n",
            "75 - buzz\n",
            "76 -\n",
            "77 - fizz\n",
            "78 -\n",
            "79 -\n",
            "80 - buzz\n",
            "81 -\n",
            "82 -\n",
            "83 -\n",
            "84 - fizz\n",
            "85 - buzz\n",
            "86 -\n",
            "87 -\n",
            "88 -\n",
            "89 -\n",
            "90 - buzz\n",
            "91 - fizz\n",
            "92 -\n",
            "93 -\n",
            "94 -\n",
            "95 - buzz\n",
            "96 -\n",
            "97 -\n",
            "98 - fizz\n",
            "99 -\n"
          ]
        }
      ],
      "source": [
        "for i in range(1, 100):\n",
        "    if (i % 7 == 0) and (i % 5 == 0):\n",
        "        print(f'{i} - fizzbuzz')\n",
        "    elif i % 7 == 0:\n",
        "        print(f'{i} - fizz')\n",
        "    elif i % 5 == 0:\n",
        "        print(f'{i} - buzz')\n",
        "    else:\n",
        "        print(f'{i} -')"
      ]
    },
    {
      "cell_type": "markdown",
      "metadata": {
        "id": "pE2jEaxFnsJ8"
      },
      "source": [
        "2) Os filmes/séries podem ser classificados conforme o seu genero (ação,comédia, drama, terror etc). Considerando as classificações abaixo: \n",
        "\n",
        "   a) Ação = Jumanji, Projeto Gemini,The old guard,WandaVision.\n",
        "\n",
        "   b) Comédia = Jumanji,How I Met Your Mother,Friends, Amigos para sempre.\n",
        "\n",
        "   c)  Drama = Amigos para sempre, After,Game of Thrones, WandaVision.\n",
        "\n",
        " Tarefas: \n",
        "\n",
        "   2.1 - Cria uma lista de listas para representar cada um dos conjuntos acima. \n",
        "\n",
        "   2.2 - Usando a lista criada em 2.1, escreva um programa que \"print\" na tela a quantidade de caracteres de cada título.    "
      ]
    },
    {
      "cell_type": "code",
      "execution_count": 2,
      "metadata": {},
      "outputs": [
        {
          "name": "stdout",
          "output_type": "stream",
          "text": [
            "['Jumanji', 'Projeto Gemini', 'The old guard', 'WandaVision']\n",
            "['Jumanji', 'How I Met Your Mother', 'Friends', 'Amigos para sempre']\n",
            "['Amigos para sempre', 'After', 'Game of Thrones', 'WandaVision']\n"
          ]
        }
      ],
      "source": [
        "acao = ['Jumanji', 'Projeto Gemini','The old guard','WandaVision']\n",
        "comedia = ['Jumanji','How I Met Your Mother','Friends', 'Amigos para sempre']\n",
        "drama = ['Amigos para sempre', 'After','Game of Thrones', 'WandaVision']\n",
        "\n",
        "print(acao)\n",
        "print(comedia)\n",
        "print(drama)"
      ]
    },
    {
      "cell_type": "code",
      "execution_count": 3,
      "metadata": {},
      "outputs": [
        {
          "name": "stdout",
          "output_type": "stream",
          "text": [
            "'Friends' tem 7 caracteres.\n",
            "'WandaVision' tem 11 caracteres.\n",
            "'Amigos para sempre' tem 18 caracteres.\n",
            "'After' tem 5 caracteres.\n",
            "'Jumanji' tem 7 caracteres.\n",
            "'The old guard' tem 13 caracteres.\n",
            "'Projeto Gemini' tem 14 caracteres.\n",
            "'How I Met Your Mother' tem 21 caracteres.\n",
            "'Game of Thrones' tem 15 caracteres.\n"
          ]
        }
      ],
      "source": [
        "todos_filmes = []\n",
        "\n",
        "todos_filmes.extend(acao)\n",
        "todos_filmes.extend(comedia)\n",
        "todos_filmes.extend(drama)\n",
        "\n",
        "todos_filmes = list(set(todos_filmes))\n",
        "\n",
        "for filme in todos_filmes:\n",
        "    print(f\"'{filme}' tem {len(filme)} caracteres.\")\n"
      ]
    },
    {
      "cell_type": "markdown",
      "metadata": {
        "id": "rqdZUmi2vTJt"
      },
      "source": [
        "3) Escreva um programa que calcule o fatorial de um número (entre com o número usando input). Sabendo que: \n",
        "\n",
        "  a) n! = n*(n-1)*(n-2)*...*1 \n",
        "\n",
        "  b) 1! = 1\n",
        "\n",
        "  c) 0! = 1\n",
        "  \n",
        "  Dica: Use While  "
      ]
    },
    {
      "cell_type": "code",
      "execution_count": 4,
      "metadata": {},
      "outputs": [
        {
          "name": "stdout",
          "output_type": "stream",
          "text": [
            "2\n"
          ]
        }
      ],
      "source": [
        "num = input('Digite um número inteiro e positivo: ')\n",
        "\n",
        "while num.isnumeric()==False or int(num) < 0:\n",
        "  num = input('Valor invalido, digite um número valido.')\n",
        "\n",
        "num = int(num)\n",
        "total = 1\n",
        "\n",
        "if num > 0:\n",
        "  while num >= 1:\n",
        "    total *= num\n",
        "    num -= 1\n",
        "\n",
        "print(total)"
      ]
    },
    {
      "cell_type": "markdown",
      "metadata": {
        "id": "uCYFCuBvsIN8"
      },
      "source": [
        "**4) Desafio**\n",
        "\n",
        "Considerando o problema 2): \n",
        "\n",
        " 4.1) Crie um dicionário no qual cada chave representa o genero do filme; \n",
        "\n",
        " 4.2) Em um sistema de recomendação baseado em conteúdos, deseja-se saber as classificações (generos) de cada filme. Faça um programa que usando o dicionário criado em 4.1, retorne os generos associados a cada filme. (Dica: use um outro dicionário).\n"
      ]
    },
    {
      "cell_type": "code",
      "execution_count": 13,
      "metadata": {
        "id": "2ALomF0a8AjE"
      },
      "outputs": [
        {
          "name": "stdout",
          "output_type": "stream",
          "text": [
            "{'Ação': ['Jumanji', 'Projeto Gemini', 'The old guard', 'WandaVision'], 'Comédia': ['Jumanji', 'How I Met Your Mother', 'Friends', 'Amigos para sempre'], 'Drama': ['Amigos para sempre', 'After', 'Game of Thrones', 'WandaVision']}\n"
          ]
        }
      ],
      "source": [
        "genre_dic = {\"Ação\" : acao ,\"Comédia\" : comedia ,\"Drama\": drama}\n",
        "\n",
        "print(genre_dic)"
      ]
    },
    {
      "cell_type": "code",
      "execution_count": 23,
      "metadata": {},
      "outputs": [
        {
          "data": {
            "text/plain": [
              "{'How I Met Your Mother': ['Comédia'],\n",
              " 'Projeto Gemini': ['Ação'],\n",
              " 'Friends': ['Comédia'],\n",
              " 'Amigos para sempre': ['Comédia', 'Drama'],\n",
              " 'Game of Thrones': ['Drama'],\n",
              " 'The old guard': ['Ação'],\n",
              " 'WandaVision': ['Ação', 'Drama'],\n",
              " 'Jumanji': ['Comédia', 'Ação'],\n",
              " 'After': ['Drama']}"
            ]
          },
          "execution_count": 23,
          "metadata": {},
          "output_type": "execute_result"
        }
      ],
      "source": [
        "generos = {}\n",
        "\n",
        "for i in todos_filmes:\n",
        "  generos[i] = []\n",
        "  if i in comedia:\n",
        "    generos[i].append(\"Comédia\")\n",
        "  if i in acao:\n",
        "    generos[i].append(\"Ação\")\n",
        "  if i in drama:\n",
        "    generos[i].append(\"Drama\")\n",
        "\n",
        "generos"
      ]
    }
  ],
  "metadata": {
    "colab": {
      "authorship_tag": "ABX9TyOrTqVdKv6Vdo7pRbLB25VW",
      "include_colab_link": true,
      "provenance": []
    },
    "kernelspec": {
      "display_name": "Python 3",
      "name": "python3"
    },
    "language_info": {
      "codemirror_mode": {
        "name": "ipython",
        "version": 3
      },
      "file_extension": ".py",
      "mimetype": "text/x-python",
      "name": "python",
      "nbconvert_exporter": "python",
      "pygments_lexer": "ipython3",
      "version": "3.10.11"
    }
  },
  "nbformat": 4,
  "nbformat_minor": 0
}
