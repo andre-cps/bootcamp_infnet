{
 "cells": [
  {
   "cell_type": "code",
   "execution_count": 1,
   "metadata": {},
   "outputs": [],
   "source": [
    "with open('starbucks.csv', 'r') as f:\n",
    "    linhas = f.readlines()\n",
    "\n",
    "# Criando as chaves do dicionario a partir da linha 0.\n",
    "chaves = linhas[0].strip().replace('\"', '').split(',')\n",
    "\n",
    "# Criando o dicionario vazio.\n",
    "dicionario = dict()\n",
    "\n",
    "# Atribuindo cada chave ao dicionario.\n",
    "for chave in chaves:\n",
    "    dicionario[chave] = []\n",
    "\n",
    "# Acessando cada linha do arquivo, ignorando a linha 0.\n",
    "for linha in linhas[1:]:\n",
    "\n",
    "    # Criando uma lista com os \"valores\" de cada linha.\n",
    "    valores = linha.strip().replace('\"', '').split(',')\n",
    "\n",
    "    # Utilizando o enumerate para criar um indice junto ao valor (i, valor).\n",
    "    for i, valor in enumerate(valores):\n",
    "\n",
    "        # Tentando fazer a conversão.\n",
    "        try:\n",
    "            valor = int(valor)\n",
    "        except ValueError:\n",
    "            try:\n",
    "                valor = float(valor)\n",
    "            except ValueError:\n",
    "                pass\n",
    "        \n",
    "        # Adicionando os valores a chave através do indice (i).\n",
    "        # Primeira passagem assume indice 0 e valor 1.\n",
    "        # Com isso, passa a acessar o dicionario[chaves[0]] (equivale a dicionario[\"\"]) e fazendo o append de 1 ao valor da chave.\n",
    "        dicionario[chaves[i]].append(valor)\n",
    "#print(dicionario)"
   ]
  },
  {
   "cell_type": "code",
   "execution_count": 2,
   "metadata": {},
   "outputs": [
    {
     "name": "stdout",
     "output_type": "stream",
     "text": [
      ": [1, 2, 3, 4, 5]\n",
      "item: ['8-Grain Roll', 'Apple Bran Muffin', 'Apple Fritter', 'Banana Nut Loaf', 'Birthday Cake Mini Doughnut']\n",
      "calories: [350, 350, 420, 490, 130]\n",
      "fat: [8, 9, 20, 19, 6]\n",
      "carb: [67, 64, 59, 75, 17]\n",
      "fiber: [5, 7, 0, 4, 0]\n",
      "protein: [10, 6, 5, 7, 0]\n",
      "type: ['bakery', 'bakery', 'bakery', 'bakery', 'bakery']\n"
     ]
    }
   ],
   "source": [
    "# Imprimindo as 5 primeiras linhas do dicionario.\n",
    "for chave in dicionario:\n",
    "    print(f'{chave}: {dicionario[chave][:5]}')"
   ]
  },
  {
   "cell_type": "code",
   "execution_count": 3,
   "metadata": {},
   "outputs": [
    {
     "name": "stdout",
     "output_type": "stream",
     "text": [
      ": <class 'int'>\n",
      "item: <class 'str'>\n",
      "calories: <class 'int'>\n",
      "fat: <class 'int'>\n",
      "carb: <class 'int'>\n",
      "fiber: <class 'int'>\n",
      "protein: <class 'int'>\n",
      "type: <class 'str'>\n"
     ]
    }
   ],
   "source": [
    "# Imprimindo os tipos das chaves.\n",
    "for chave in dicionario:\n",
    "    print(f'{chave}: {type(dicionario[chave][0])}')"
   ]
  },
  {
   "cell_type": "code",
   "execution_count": 9,
   "metadata": {},
   "outputs": [],
   "source": [
    "# Imprimindo o total de duas colunas.\n",
    "def max_dict(name):\n",
    "    max_value = max(dicionario[name])\n",
    "    print(f\"O valor máximo para a chave '{name}' é: {max_value}\")"
   ]
  },
  {
   "cell_type": "code",
   "execution_count": 11,
   "metadata": {},
   "outputs": [
    {
     "name": "stdout",
     "output_type": "stream",
     "text": [
      "O valor máximo para a chave 'calories' é: 500\n"
     ]
    }
   ],
   "source": [
    "max_dict('calories')"
   ]
  }
 ],
 "metadata": {
  "kernelspec": {
   "display_name": "Python 3",
   "language": "python",
   "name": "python3"
  },
  "language_info": {
   "codemirror_mode": {
    "name": "ipython",
    "version": 3
   },
   "file_extension": ".py",
   "mimetype": "text/x-python",
   "name": "python",
   "nbconvert_exporter": "python",
   "pygments_lexer": "ipython3",
   "version": "3.10.11"
  },
  "orig_nbformat": 4
 },
 "nbformat": 4,
 "nbformat_minor": 2
}
